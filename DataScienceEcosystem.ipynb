{
 "cells": [
  {
   "cell_type": "markdown",
   "id": "10c012ba-4f11-468a-9e6b-fd5ea5f4ba66",
   "metadata": {
    "tags": []
   },
   "source": [
    "# Data science Tools and Ecosystem"
   ]
  },
  {
   "cell_type": "markdown",
   "id": "be28ba70-37d3-4412-a62a-79b2dd47ea09",
   "metadata": {
    "tags": []
   },
   "source": [
    "In this notebook, Data science Tools and Ecosystem are summarized."
   ]
  },
  {
   "cell_type": "markdown",
   "id": "cbc27e56-9505-4046-86f9-9e1facc78582",
   "metadata": {
    "tags": []
   },
   "source": [
    "Some of the popular languages that Data Scientists use are:\n",
    "\n",
    "- Python\n",
    "- R\n",
    "- SQL\n",
    "- C++\n",
    "- Julia\n",
    "\n"
   ]
  },
  {
   "cell_type": "markdown",
   "id": "b16a1fba-72a3-40a8-b4c6-ed9ae7405ccb",
   "metadata": {
    "tags": []
   },
   "source": [
    "Some of the commonly used libraries used by Data Scientists include: \n",
    "\n",
    "- Ggplot2\n",
    "- Matplotlib\n",
    "- Pandas\n",
    "- Plotly\n",
    "- Numpy"
   ]
  },
  {
   "cell_type": "markdown",
   "id": "89b157d6-1395-4a37-84fa-0393532610ff",
   "metadata": {
    "tags": []
   },
   "source": [
    "| Data science Tools |\n",
    "| ...................|\n",
    "| Anaconda           |\n",
    "| Rstudio            |\n",
    "| Visual studio code |\n",
    "| Jupyter notebook   |"
   ]
  },
  {
   "cell_type": "markdown",
   "id": "2dc1ac2a-14a4-443b-9efb-f0ca6abe463b",
   "metadata": {
    "tags": []
   },
   "source": [
    "### Below are few examples of evaluating arithmetic expressions in Python\n"
   ]
  },
  {
   "cell_type": "code",
   "execution_count": null,
   "id": "92fe7b83-2cb5-488a-954b-f3d150a9fd1d",
   "metadata": {
    "tags": []
   },
   "outputs": [],
   "source": [
    "# This is a simple arithmetic expression to multiply then add integers\n",
    "\n",
    "print3* 4)+5)"
   ]
  },
  {
   "cell_type": "code",
   "execution_count": null,
   "id": "3bbde67b-2fa7-4302-b5a4-f95ebb4d7c7c",
   "metadata": {
    "tags": []
   },
   "outputs": [],
   "source": []
  },
  {
   "cell_type": "code",
   "execution_count": null,
   "id": "9b8bbd15-1d18-4a6b-b70a-87d252ad06dc",
   "metadata": {},
   "outputs": [],
   "source": []
  }
 ],
 "metadata": {
  "kernelspec": {
   "display_name": "Python",
   "language": "python",
   "name": "conda-env-python-py"
  },
  "language_info": {
   "codemirror_mode": {
    "name": "ipython",
    "version": 3
   },
   "file_extension": ".py",
   "mimetype": "text/x-python",
   "name": "python",
   "nbconvert_exporter": "python",
   "pygments_lexer": "ipython3",
   "version": "3.7.12"
  }
 },
 "nbformat": 4,
 "nbformat_minor": 5
}
