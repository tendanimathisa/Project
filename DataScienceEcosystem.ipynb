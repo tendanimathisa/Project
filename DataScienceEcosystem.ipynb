{
 "cells": [
  {
   "cell_type": "markdown",
   "id": "7f32fa13-6d95-4beb-b6eb-58063cc699c7",
   "metadata": {},
   "source": [
    "# Data science Tools and Ecosystem"
   ]
  },
  {
   "cell_type": "markdown",
   "id": "ec8a48bf-6d9e-4e35-ba52-1b6c9546fabc",
   "metadata": {},
   "source": [
    "In this notebook, Data science Tools and Ecosystem are summarized."
   ]
  },
  {
   "cell_type": "markdown",
   "id": "bb4b8116-128f-4245-a2bb-84ee4d9e4786",
   "metadata": {},
   "source": [
    "**Objectives**\n",
    "- List of popular languages for Data Science\n",
    "- Common used libraries used by Data Scientists\n",
    "- Data Science tools\n",
    "- Evaluating expressions in Python"
   ]
  },
  {
   "cell_type": "markdown",
   "id": "ab0ccf80-f669-44df-ba2d-3b82b3621fc3",
   "metadata": {},
   "source": [
    "Some of the popular languages that Data Scientists use are:\n",
    "\n",
    "- Python\n",
    "- R\n",
    "- SQL\n",
    "- C++\n",
    "- Julia"
   ]
  },
  {
   "cell_type": "markdown",
   "id": "52354dbb-fe40-4f80-a2e7-f781c138ead0",
   "metadata": {},
   "source": [
    "Some of the commonly used libraries used by Data Scientists include: \n",
    "\n",
    "- Ggplot2\n",
    "- Matplotlib\n",
    "- Pandas\n",
    "- Plotly\n",
    "- Numpy"
   ]
  },
  {
   "cell_type": "markdown",
   "id": "b68cbc5d-24d0-451a-97b8-8202e11e6ed4",
   "metadata": {},
   "source": [
    "| Data science Tools |\n",
    "| ...................|\n",
    "| Anaconda           |\n",
    "| Rstudio            |\n",
    "| Visual studio code |\n",
    "| Jupyter notebook   |"
   ]
  },
  {
   "cell_type": "markdown",
   "id": "39561a94-64a2-4885-9083-9551c5d80e54",
   "metadata": {},
   "source": [
    "### Below are few examples of evaluating arithmetic expressions in Python"
   ]
  },
  {
   "cell_type": "code",
   "execution_count": null,
   "id": "63b6969e-245b-4f52-88d0-1c9797526597",
   "metadata": {},
   "outputs": [],
   "source": [
    "# This is a simple arithmetic expression to multiply then add integers\n",
    "print((3 * 4) + 5)"
   ]
  },
  {
   "cell_type": "code",
   "execution_count": null,
   "id": "f6454515-9fb9-4d66-8f57-8e81690b8af5",
   "metadata": {},
   "outputs": [],
   "source": [
    "# This will convert 200 minutes to hours by dividing by 60\n",
    "print(200/60)"
   ]
  },
  {
   "cell_type": "code",
   "execution_count": null,
   "id": "0871f6e9-c05d-4abc-8232-e562a0476c9d",
   "metadata": {},
   "outputs": [],
   "source": [
    "## Author\n",
    "Mathisa"
   ]
  }
 ],
 "metadata": {
  "kernelspec": {
   "display_name": "Python 3 (ipykernel)",
   "language": "python",
   "name": "python3"
  },
  "language_info": {
   "codemirror_mode": {
    "name": "ipython",
    "version": 3
   },
   "file_extension": ".py",
   "mimetype": "text/x-python",
   "name": "python",
   "nbconvert_exporter": "python",
   "pygments_lexer": "ipython3",
   "version": "3.11.7"
  }
 },
 "nbformat": 4,
 "nbformat_minor": 5
}
